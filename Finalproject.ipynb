{
 "cells": [
  {
   "cell_type": "code",
   "execution_count": 68,
   "metadata": {},
   "outputs": [],
   "source": [
    "import pandas as pd\n",
    "import numpy as np\n",
    "import nltk\n",
    "import string\n",
    "from time import time\n",
    "from nltk.stem import WordNetLemmatizer\n",
    "from nltk.corpus import stopwords\n",
    "from nltk.corpus import wordnet\n",
    "from nltk.tag import pos_tag\n",
    "from nltk.tokenize import word_tokenize\n",
    "from sklearn.feature_extraction.text import TfidfVectorizer\n",
    "from sklearn.feature_extraction.text import CountVectorizer\n",
    "from sklearn.model_selection import train_test_split\n",
    "from sklearn.naive_bayes import MultinomialNB\n",
    "from sklearn import metrics\n",
    "from sklearn.metrics import confusion_matrix\n",
    "from sklearn.metrics import f1_score\n",
    "from sklearn.metrics import mean_absolute_error\n",
    "from sklearn.metrics import explained_variance_score\n",
    "from sklearn.metrics import mean_squared_error\n",
    "import seaborn as sns\n",
    "import matplotlib.pyplot as plt"
   ]
  },
  {
   "cell_type": "code",
   "execution_count": 2,
   "metadata": {},
   "outputs": [],
   "source": [
    "review_json = 'yelp_dataset/yelp_academic_dataset_review.json'\n",
    "#\n",
    "#size = 1000000\n",
    "#review = pd.read_json(review_json, lines=True,\n",
    "#                      dtype={'review_id':str,'user_id':str, 'business_id':str,'stars':int, 'date':str,'text':str,'useful':int, 'funny':int,'cool':int}, \n",
    "#                      chunksize=size)\n",
    "#chunk_list = []\n",
    "#for chunk_review in review:\n",
    "#    chunk_review = chunk_review.drop(['review_id','user_id', 'business_id', 'date', 'useful','funny','cool'], axis=1)\n",
    "#    chunk_list.append(chunk_review)\n",
    "#df = pd.concat(chunk_list, ignore_index=True, join='outer', axis=0)\n",
    "#csv_name = \"yelp_reviews.csv\"\n",
    "#df.to_csv(csv_name, index=False)\n",
    "\n",
    "#df = pd.read_csv('yelp_reviews.csv', chunksize = 5000)\n",
    "#for chunk in df:\n",
    "#    print(list(chunk.columns.values))"
   ]
  },
  {
   "cell_type": "code",
   "execution_count": 16,
   "metadata": {},
   "outputs": [
    {
     "name": "stdout",
     "output_type": "stream",
     "text": [
      "Dataframe load time:  87.742s\n"
     ]
    }
   ],
   "source": [
    "t0 = time()\n",
    "yelp_df = pd.read_csv('yelp_reviews.csv')\n",
    "goog_df = pd.read_csv('google_reviews.csv')\n",
    "load_time = time() - t0\n",
    "print(\"Dataframe load time:  %0.3fs\" % load_time)"
   ]
  },
  {
   "cell_type": "code",
   "execution_count": 48,
   "metadata": {},
   "outputs": [],
   "source": [
    "#df2 = df.sample(5000)\n",
    "#df.shape\n",
    "#print (yelp_df.dtypes)\n",
    "#print (goog_df.dtypes)\n",
    "df1 = yelp_df[yelp_df.stars == 1].sample(1000)\n",
    "df2 = yelp_df[yelp_df.stars == 2].sample(1000)\n",
    "df3 = yelp_df[yelp_df.stars == 3].sample(1000)\n",
    "df4 = yelp_df[yelp_df.stars == 4].sample(1000)\n",
    "df5 = yelp_df[yelp_df.stars == 5].sample(1000)\n",
    "df6 = goog_df[goog_df.stars == 1].sample(1000)\n",
    "df7 = goog_df[goog_df.stars == 2].sample(1000)\n",
    "df8 = goog_df[goog_df.stars == 3].sample(1000)\n",
    "df9 = goog_df[goog_df.stars == 4].sample(1000)\n",
    "df10 = goog_df[goog_df.stars == 5].sample(1000)\n",
    "yelp_samples = [df1, df2, df3, df4, df5]\n",
    "goog_samples = [df6, df7, df8, df9, df10]\n",
    "yelp_df = pd.concat(yelp_samples)\n",
    "goog_df = pd.concat(goog_samples)\n",
    "yelp_x = yelp_df['text']\n",
    "yelp_y = yelp_df['stars']\n",
    "goog_x = goog_df['text']\n",
    "goog_y = goog_df['stars']\n",
    "goog_x_train,x_test,goog_y_train,y_test = train_test_split(goog_x,goog_y,test_size=0.2)\n",
    "x_train = pd.concat([yelp_x, goog_x_train])\n",
    "y_train = pd.concat([yelp_y, goog_y_train])"
   ]
  },
  {
   "cell_type": "code",
   "execution_count": 78,
   "metadata": {
    "scrolled": true
   },
   "outputs": [
    {
     "name": "stdout",
     "output_type": "stream",
     "text": [
      "(9000, 29648)\n",
      "Vectorizer fit time:  244.065s\n"
     ]
    }
   ],
   "source": [
    "def cleantext(text):\n",
    "    nopunc = [w for w in word_tokenize(text) if w not in string.punctuation]\n",
    "    return [word for word in nopunc if word.lower() not in stopwords.words('english')]\n",
    "t0 = time()\n",
    "vectorizer = CountVectorizer(analyzer = cleantext)\n",
    "#tf_vectorizer = TfidVectorizer(analyzer = cleantext, stopwords = 'english') \n",
    "x_train_tf = vectorizer.fit_transform(x_train)\n",
    "print(x_train_tf.shape)\n",
    "fit_time = time() - t0\n",
    "print(\"Vectorizer fit time:  %0.3fs\" % fit_time)"
   ]
  },
  {
   "cell_type": "code",
   "execution_count": 79,
   "metadata": {},
   "outputs": [
    {
     "name": "stdout",
     "output_type": "stream",
     "text": [
      "Classifier fit time:  0.152s\n"
     ]
    }
   ],
   "source": [
    "t0 = time()\n",
    "naive_bayes_classifier = MultinomialNB()\n",
    "naive_bayes_classifier.fit(x_train_tf, y_train)\n",
    "train_time = time() - t0\n",
    "print(\"Classifier fit time:  %0.3fs\" % train_time)"
   ]
  },
  {
   "cell_type": "code",
   "execution_count": 80,
   "metadata": {},
   "outputs": [
    {
     "name": "stdout",
     "output_type": "stream",
     "text": [
      "Testing set accuracy: 0.475\n",
      "Macro f1 score: 0.47494923950980483\n",
      "Weighted f1 score: 0.4803984222817878\n"
     ]
    }
   ],
   "source": [
    "x_test_tf = vectorizer.transform(x_test)\n",
    "y_prediction = naive_bayes_classifier.predict(x_test_tf)\n",
    "accuracy = metrics.accuracy_score(y_test, y_prediction)\n",
    "print(\"Testing set accuracy:\",accuracy)\n",
    "print(\"Macro f1 score:\", f1_score(y_test,y_prediction,average='macro'))\n",
    "print(\"Weighted f1 score:\",f1_score(y_test,y_prediction,average='weighted'))"
   ]
  },
  {
   "cell_type": "code",
   "execution_count": 81,
   "metadata": {},
   "outputs": [
    {
     "name": "stdout",
     "output_type": "stream",
     "text": [
      "Mean absolute error: 0.702\n",
      "Mean squared error: 1.166\n",
      "Explained variance score: 0.43310335643546927\n"
     ]
    }
   ],
   "source": [
    "mean_ab_error = mean_absolute_error(y_test, y_prediction)\n",
    "mean_sq_error = mean_squared_error(y_test, y_prediction)\n",
    "expl_var_score = explained_variance_score(y_test, y_prediction)\n",
    "print(\"Mean absolute error:\",mean_ab_error)\n",
    "print(\"Mean squared error:\", mean_sq_error)\n",
    "print(\"Explained variance score:\",expl_var_score)"
   ]
  },
  {
   "cell_type": "code",
   "execution_count": 83,
   "metadata": {},
   "outputs": [
    {
     "data": {
      "text/plain": [
       "Text(33.0, 0.5, 'predicted label')"
      ]
     },
     "execution_count": 83,
     "metadata": {},
     "output_type": "execute_result"
    },
    {
     "data": {
      "image/png": "[encoded data removed]",
      "text/plain": [
       "<Figure size 432x288 with 2 Axes>"
      ]
     },
     "metadata": {
      "needs_background": "light"
     },
     "output_type": "display_data"
    }
   ],
   "source": [
    "mat = confusion_matrix(y_test, y_prediction)\n",
    "#print(mat)\n",
    "categories = ['1','2','3','4','5']\n",
    "sns.heatmap(mat.T, annot=True,  xticklabels=categories,yticklabels=categories, cmap=\"YlGnBu\")\n",
    "plt.xlabel('true label')\n",
    "plt.ylabel('predicted label')"
   ]
  },
  {
   "cell_type": "code",
   "execution_count": 88,
   "metadata": {},
   "outputs": [
    {
     "name": "stdout",
     "output_type": "stream",
     "text": [
      "Actual rating from text reviews:  4.611111111111111\n",
      "Predicted rating from text reviews:  4.292929292929293\n"
     ]
    }
   ],
   "source": [
    "'''\n",
    "Example code to use model on a specific business scraped and compare \n",
    "'''\n",
    "business_reviews = 'business_reviews.csv'\n",
    "business_df = pd.read_csv(business_reviews)\n",
    "business_text = business_df['text']\n",
    "business_stars = business_df['stars']\n",
    "business_text_vectorized = vectorizer.transform(business_text)\n",
    "business_prediction = naive_bayes_classifier.predict(business_text_vectorized)\n",
    "predicted_rating = sum(business_prediction) / len(business_prediction)\n",
    "actual_rating = sum(business_stars) / len(business_stars)\n",
    "print(\"Actual rating from text reviews: \", actual_rating)\n",
    "print(\"Predicted rating from text reviews: \", predicted_rating)"
   ]
  },
  {
   "cell_type": "code",
   "execution_count": null,
   "metadata": {},
   "outputs": [],
   "source": []
  }
 ],
 "metadata": {
  "kernelspec": {
   "display_name": "Python 3",
   "language": "python",
   "name": "python3"
  },
  "language_info": {
   "codemirror_mode": {
    "name": "ipython",
    "version": 3
   },
   "file_extension": ".py",
   "mimetype": "text/x-python",
   "name": "python",
   "nbconvert_exporter": "python",
   "pygments_lexer": "ipython3",
   "version": "3.6.5"
  }
 },
 "nbformat": 4,
 "nbformat_minor": 2
}
